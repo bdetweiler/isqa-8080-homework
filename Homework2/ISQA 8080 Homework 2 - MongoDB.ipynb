{
 "cells": [
  {
   "cell_type": "markdown",
   "metadata": {},
   "source": [
    "# ISQA 8080 Homework 2.2\n",
    "\n",
    "Brian Detweiler"
   ]
  },
  {
   "cell_type": "code",
   "execution_count": 95,
   "metadata": {
    "collapsed": false
   },
   "outputs": [],
   "source": [
    "import pymongo\n",
    "from pymongo import MongoClient\n",
    "import datetime\n",
    "import re\n",
    "from pymongo import InsertOne, DeleteOne, ReplaceOne\n",
    "import datetime\n",
    "\n",
    "client = MongoClient()\n",
    "client = MongoClient('mongodb://localhost:27017/')\n",
    "db = client.homework2\n",
    "users = db.users\n",
    "movies = db.movies\n"
   ]
  },
  {
   "cell_type": "markdown",
   "metadata": {
    "collapsed": false
   },
   "source": [
    "# Tasks\n",
    "\n",
    "* The fourth task is to upload a dataset and to write and run different queries on this dataset.\n",
    "* The fifth task starts with Redis. First, installation and running Redis either on your own computer or running it on\n",
    "* The sixth task demonstrates three examples of using Redis.\n",
    "* The seventh tasks asks you to describe a solution to use Redis for storing user ratings.\n",
    "* The eighth tasks asks you to write a reflection on the discussion boards.\n",
    "\n",
    "# Deliverables (Summary, Detailed description in the tasks):\n",
    "\n",
    "* See task four: In the answer sheet \"Homework 2 Answer Sheet.docx\", write the 10 queries including a screenshot of the command and the first lines of the result.\n",
    "* See task seven: In the answer sheet \"Homework 2 Answer Sheet. Docx\", describe how Redis can be used to store user ratings. You need to include screenshots to show how data would be stored as well as retrieved in Redis.\n",
    "* Submit the Answer Sheet on Blackboard using the link \"Homework 2 Part 2: MongoDB and Redis\" (where you downloaded the instructions and the text files).\n",
    "* See task eight: Write a reflection by replying to the thread \"Homework Reflection 2\" in the discussion board\n"
   ]
  },
  {
   "cell_type": "code",
   "execution_count": 19,
   "metadata": {
    "collapsed": false
   },
   "outputs": [
    {
     "name": "stdout",
     "output_type": "stream",
     "text": [
      "{u'category': [u'Animation', u\"Children's\", u'Comedy'], u'_id': 1, u'year': 1995, u'title': u'Toy Story '}\n"
     ]
    }
   ],
   "source": [
    "movieList = movies.find({\"_id\": 1})\n",
    "\n",
    "for movie in movieList:\n",
    "    print movie"
   ]
  },
  {
   "cell_type": "markdown",
   "metadata": {
    "collapsed": false
   },
   "source": [
    "# 1. Display all occupations"
   ]
  },
  {
   "cell_type": "code",
   "execution_count": 28,
   "metadata": {
    "collapsed": false
   },
   "outputs": [
    {
     "name": "stdout",
     "output_type": "stream",
     "text": [
      "K-12 student\n",
      "academic/educator\n",
      "artist\n",
      "clerical/admin\n",
      "college/grad student\n",
      "customer service\n",
      "doctor/health care\n",
      "executive/managerial\n",
      "farmer\n",
      "homemaker\n",
      "lawyer\n",
      "other\n",
      "programmer\n",
      "retired\n",
      "sales/marketing\n",
      "scientist\n",
      "self-employed\n",
      "technician/engineer\n",
      "tradesman/craftsman\n",
      "unemployed\n",
      "writer\n"
     ]
    }
   ],
   "source": [
    "occupations = sorted(users.distinct(u'occupation'))\n",
    "\n",
    "for occupation in occupations:\n",
    "    print occupation"
   ]
  },
  {
   "cell_type": "markdown",
   "metadata": {},
   "source": [
    "# 2. Chose an occupation and select all users with this occupation. Only show user information and hide the users' movie ratings.\n"
   ]
  },
  {
   "cell_type": "code",
   "execution_count": 107,
   "metadata": {
    "collapsed": false
   },
   "outputs": [
    {
     "name": "stdout",
     "output_type": "stream",
     "text": [
      "{u'gender': u'M', u'age': u'25-34', u'_id': 9, u'zipcode': u'61614', u'occupation': u'technician/engineer'}\n",
      "{u'gender': u'M', u'age': u'45-49', u'_id': 44, u'zipcode': u'98052', u'occupation': u'technician/engineer'}\n",
      "{u'gender': u'M', u'age': u'25-34', u'_id': 61, u'zipcode': u'95122', u'occupation': u'technician/engineer'}\n",
      "{u'gender': u'M', u'age': u'25-34', u'_id': 82, u'zipcode': u'48380', u'occupation': u'technician/engineer'}\n",
      "{u'gender': u'M', u'age': u'25-34', u'_id': 93, u'zipcode': u'95825', u'occupation': u'technician/engineer'}\n",
      "{u'gender': u'M', u'age': u'25-34', u'_id': 94, u'zipcode': u'28601', u'occupation': u'technician/engineer'}\n",
      "{u'gender': u'M', u'age': u'35-44', u'_id': 100, u'zipcode': u'95401', u'occupation': u'technician/engineer'}\n",
      "{u'gender': u'M', u'age': u'25-34', u'_id': 116, u'zipcode': u'55744', u'occupation': u'technician/engineer'}\n",
      "{u'gender': u'M', u'age': u'25-34', u'_id': 117, u'zipcode': u'33314', u'occupation': u'technician/engineer'}\n",
      "{u'gender': u'M', u'age': u'35-44', u'_id': 118, u'zipcode': u'22315', u'occupation': u'technician/engineer'}\n"
     ]
    }
   ],
   "source": [
    "# We will choose 'technician/engineer' and hide movie reviews - limit to first 10 results\n",
    "engineers = users.find({u'occupation': 'technician/engineer'},\n",
    "                      {u'movies':0}).limit(10)\n",
    "\n",
    "for engineer in engineers:\n",
    "    print engineer"
   ]
  },
  {
   "cell_type": "markdown",
   "metadata": {},
   "source": [
    "# 3. Count the number of men in the database."
   ]
  },
  {
   "cell_type": "code",
   "execution_count": 108,
   "metadata": {
    "collapsed": false
   },
   "outputs": [
    {
     "name": "stdout",
     "output_type": "stream",
     "text": [
      "There are 2716 men in the database.\n"
     ]
    }
   ],
   "source": [
    "men = users.find({u'gender': 'M'}).count()\n",
    "\n",
    "print \"There are \" + str(men) + \" men in the database.\""
   ]
  },
  {
   "cell_type": "markdown",
   "metadata": {},
   "source": [
    "#  4. Select all users whose zipcode starts with a 5. Only show the user ID and zipcode."
   ]
  },
  {
   "cell_type": "code",
   "execution_count": 82,
   "metadata": {
    "collapsed": false
   },
   "outputs": [
    {
     "name": "stdout",
     "output_type": "stream",
     "text": [
      "{u'_id': 3, u'zipcode': u'55117'}\n",
      "{u'_id': 5, u'zipcode': u'55455'}\n",
      "{u'_id': 6, u'zipcode': u'55117'}\n",
      "{u'_id': 20, u'zipcode': u'55113'}\n",
      "{u'_id': 22, u'zipcode': u'53706'}\n",
      "{u'_id': 33, u'zipcode': u'55421'}\n",
      "{u'_id': 54, u'zipcode': u'56723'}\n",
      "{u'_id': 55, u'zipcode': u'55303'}\n",
      "{u'_id': 59, u'zipcode': u'55413'}\n",
      "{u'_id': 63, u'zipcode': u'54902'}\n"
     ]
    }
   ],
   "source": [
    "regex = re.compile(\"^5.*\")\n",
    "by_zipcodes = users.find({u'zipcode': regex},\n",
    "                      {u'_id':1, u'zipcode': 1}).limit(10)\n",
    "\n",
    "for zipcode in by_zipcodes:\n",
    "    print zipcode"
   ]
  },
  {
   "cell_type": "markdown",
   "metadata": {},
   "source": [
    "# 5. Select all movies from the year 1998 and category comedy."
   ]
  },
  {
   "cell_type": "code",
   "execution_count": 83,
   "metadata": {
    "collapsed": false
   },
   "outputs": [
    {
     "name": "stdout",
     "output_type": "stream",
     "text": [
      "{u'category': [u'Comedy'], u'_id': 1679, u'year': 1998, u'title': u'Chairman of the Board '}\n",
      "{u'category': [u'Comedy', u'Crime', u'Mystery', u'Thriller'], u'_id': 1732, u'year': 1998, u'title': u'Big Lebowski, The '}\n",
      "{u'category': [u'Comedy'], u'_id': 1738, u'year': 1998, u'title': u'Vermin '}\n",
      "{u'category': [u'Comedy'], u'_id': 1746, u'year': 1998, u'title': u'Senseless '}\n",
      "{u'category': [u'Comedy'], u'_id': 1753, u'year': 1998, u'title': u'Half Baked '}\n",
      "{u'category': [u'Comedy', u'Thriller'], u'_id': 1764, u'year': 1998, u'title': u'Tainted '}\n",
      "{u'category': [u'Action', u'Comedy', u'Musical'], u'_id': 1772, u'year': 1998, u'title': u'Blues Brothers 2000 '}\n",
      "{u'category': [u'Comedy', u'Drama'], u'_id': 1774, u'year': 1998, u'title': u'Mass Transit '}\n",
      "{u'category': [u'Comedy', u'Romance'], u'_id': 1777, u'year': 1998, u'title': u'Wedding Singer, The '}\n",
      "{u'category': [u'Comedy', u'Romance'], u'_id': 1782, u'year': 1998, u'title': u'Little City '}\n"
     ]
    }
   ],
   "source": [
    "comedies_from_1998 = movies.find({u'year': 1998, u'category': u'Comedy'}).limit(10)\n",
    "\n",
    "for comedy in comedies_from_1998:\n",
    "    print comedy"
   ]
  },
  {
   "cell_type": "markdown",
   "metadata": {},
   "source": [
    "# 6. Count the number of movies from the year 1990 and 1995."
   ]
  },
  {
   "cell_type": "code",
   "execution_count": 104,
   "metadata": {
    "collapsed": false
   },
   "outputs": [
    {
     "name": "stdout",
     "output_type": "stream",
     "text": [
      "There are 1003 movies between 1990 and 1995\n"
     ]
    }
   ],
   "source": [
    "movies_between_1990_and_1995 = movies.find({u'year': {'$gte': 1990, '$lte': 1995}}).count()\n",
    "\n",
    "print 'There are ' + str(movies_between_1990_and_1995) + ' movies between 1990 and 1995'"
   ]
  },
  {
   "cell_type": "markdown",
   "metadata": {},
   "source": [
    "# 7. Display all movies published before the year 1992."
   ]
  },
  {
   "cell_type": "code",
   "execution_count": 93,
   "metadata": {
    "collapsed": false
   },
   "outputs": [
    {
     "name": "stdout",
     "output_type": "stream",
     "text": [
      "{u'category': [u'Miami Beach (1988)'], u'_id': 2382, u'year': 0, u'title': u'Police Academy 5 Assi'}\n",
      "{u'category': [u'Adventure', u'Drama'], u'_id': 2821, u'year': 1919, u'title': u'Male and Female '}\n",
      "{u'category': [u'Action', u'Drama'], u'_id': 2823, u'year': 1919, u'title': u'Spiders, The (Die Spinnen, 1. Teil Der Goldene See) '}\n",
      "{u'category': [u'Comedy'], u'_id': 3132, u'year': 1919, u'title': u'Daddy Long Legs '}\n",
      "{u'category': [u'Comedy'], u'_id': 3231, u'year': 1920, u'title': u'Saphead, The '}\n",
      "{u'category': [u'Comedy'], u'_id': 3309, u'year': 1920, u'title': u\"Dog's Life, A \"}\n",
      "{u'category': [u'Action'], u'_id': 3310, u'year': 1921, u'title': u'Kid, The '}\n",
      "{u'category': [u'Horror'], u'_id': 1348, u'year': 1922, u'title': u'Nosferatu (Nosferatu, eine Symphonie des Grauens) '}\n",
      "{u'category': [u'Drama'], u'_id': 3195, u'year': 1922, u'title': u'Tess of the Storm Country '}\n",
      "{u'category': [u'Comedy'], u'_id': 2230, u'year': 1923, u'title': u'Always Tell Your Wife '}\n"
     ]
    }
   ],
   "source": [
    "movies_before_1992 = movies.find({u'year': {'$lt': 1992}})\\\n",
    "                           .limit(10)\\\n",
    "                           .sort('year', pymongo.ASCENDING)\n",
    "\n",
    "for movie in movies_before_1992:\n",
    "    print movie"
   ]
  },
  {
   "cell_type": "markdown",
   "metadata": {},
   "source": [
    "#  8. Imagine that you registered for MovieLens. Create a new user with your user data. Do not include any ratings.\n",
    "\n",
    "## Note: The \\_id here is auto-generated, as per MongoDB conventions\n",
    "I have seen ways to grab the max ID and increment it by one, but this is not safe in general, so I am not implementing it here. "
   ]
  },
  {
   "cell_type": "code",
   "execution_count": 113,
   "metadata": {
    "collapsed": false
   },
   "outputs": [
    {
     "data": {
      "text/plain": [
       "<pymongo.results.DeleteResult at 0x7fb3b1207d70>"
      ]
     },
     "execution_count": 113,
     "metadata": {},
     "output_type": "execute_result"
    }
   ],
   "source": [
    "# users.delete_one({u'zipcode': u'68102'})"
   ]
  },
  {
   "cell_type": "code",
   "execution_count": 110,
   "metadata": {
    "collapsed": false
   },
   "outputs": [
    {
     "name": "stdout",
     "output_type": "stream",
     "text": [
      "{u'gender': u'M', u'age': u'25-34', u'_id': ObjectId('574210b15be4bc706e5d3dc1'), u'zipcode': u'68102', u'occupation': u'technician/engineer'}\n"
     ]
    }
   ],
   "source": [
    "me = users.find_one({u'zipcode': u'68102'})\n",
    "\n",
    "if me is not None:\n",
    "    print me\n",
    "else:\n",
    "    max_id = users.find_one({u'zipcode': u'68102'})\n",
    "    myself = {u'gender': u'M', \n",
    "              u'age': u'25-34', \n",
    "              u'zipcode': u'68102', \n",
    "              u'occupation': u'technician/engineer'}\n",
    "    result = db.users.insert_one(myself)\n",
    "    my_id = result.inserted_id\n",
    "    print 'created my profile with id ' + str(my_id)"
   ]
  },
  {
   "cell_type": "markdown",
   "metadata": {},
   "source": [
    "# 9. Update the user record you created in the previous query and insert a new rating for a movie of your choice. You will need to use $addToSet (https://docs.mongodb.com/v3.0/reference/operator/update/addToSet/) to add a value that does not exist in an array to the end of the array. You can use Math.round(new Date().getTime()/1000) to calculate the time in Unix format (seconds since start from epoch)."
   ]
  },
  {
   "cell_type": "code",
   "execution_count": 111,
   "metadata": {
    "collapsed": false
   },
   "outputs": [
    {
     "name": "stdout",
     "output_type": "stream",
     "text": [
      "{u'gender': u'M', u'age': u'25-34', u'zipcode': u'68102', u'movies': [{u'rating': 5, u'moveID': 3272, u'timestamp': datetime.datetime(2016, 5, 22, 20, 4, 8, 608000)}], u'_id': ObjectId('574210b15be4bc706e5d3dc1'), u'occupation': u'technician/engineer'}\n"
     ]
    }
   ],
   "source": [
    "movie_review = {u'moveID': 3272, # Bad Lieutenant \n",
    "                u'rating': 5, \n",
    "                u'timestamp': datetime.datetime.utcnow()}\n",
    "users.update_one(\n",
    "  { u'zipcode': u'68102'}, \n",
    "  { \"$addToSet\":{\"movies\": movie_review} }, \n",
    "  upsert=True)\n",
    "\n",
    "me = users.find_one({u'zipcode': u'68102'})\n",
    "print me"
   ]
  },
  {
   "cell_type": "markdown",
   "metadata": {},
   "source": [
    "# 10. A query of your choice.\n",
    "\n",
    "Here, we'll find users near Omaha"
   ]
  },
  {
   "cell_type": "code",
   "execution_count": 112,
   "metadata": {
    "collapsed": false
   },
   "outputs": [
    {
     "name": "stdout",
     "output_type": "stream",
     "text": [
      "{u'_id': 385, u'zipcode': u'68131'}\n",
      "{u'_id': 389, u'zipcode': u'68128'}\n",
      "{u'_id': 1081, u'zipcode': u'68144'}\n",
      "{u'_id': 3666, u'zipcode': u'68144'}\n",
      "{u'_id': 3679, u'zipcode': u'68108'}\n",
      "{u'_id': 3792, u'zipcode': u'68108'}\n",
      "{u'_id': ObjectId('574210b15be4bc706e5d3dc1'), u'zipcode': u'68102'}\n"
     ]
    }
   ],
   "source": [
    "regex = re.compile(\"^681.*\")\n",
    "by_zipcodes = users.find({u'zipcode': regex},\n",
    "                      {u'_id':1, u'zipcode': 1}).limit(10)\n",
    "\n",
    "for zipcode in by_zipcodes:\n",
    "    print zipcode"
   ]
  }
 ],
 "metadata": {
  "kernelspec": {
   "display_name": "Python 2",
   "language": "python",
   "name": "python2"
  },
  "language_info": {
   "codemirror_mode": {
    "name": "ipython",
    "version": 2
   },
   "file_extension": ".py",
   "mimetype": "text/x-python",
   "name": "python",
   "nbconvert_exporter": "python",
   "pygments_lexer": "ipython2",
   "version": "2.7.10"
  }
 },
 "nbformat": 4,
 "nbformat_minor": 0
}
