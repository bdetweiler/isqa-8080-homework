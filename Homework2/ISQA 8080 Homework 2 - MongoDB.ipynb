{
 "cells": [
  {
   "cell_type": "code",
   "execution_count": 6,
   "metadata": {
    "collapsed": false
   },
   "outputs": [],
   "source": [
    "import pymongo\n",
    "from pymongo import MongoClient\n",
    "import datetime\n",
    "\n",
    "client = MongoClient()\n",
    "client = MongoClient('mongodb://localhost:27017/')\n",
    "db = client.test\n",
    "collection = db.test_collection\n"
   ]
  },
  {
   "cell_type": "code",
   "execution_count": 7,
   "metadata": {
    "collapsed": false
   },
   "outputs": [
    {
     "data": {
      "text/plain": [
       "{u'_id': ObjectId('5740e0b8ee1b431f6a1f5df9'),\n",
       " u'category': u'Laptop',\n",
       " u'details': {u'manufacturer': u'Apple company',\n",
       "  u'model': u'Mac Air',\n",
       "  u'version': u'Air 2'},\n",
       " u'item_name': u'Apple Mac Air',\n",
       " u'price': 980,\n",
       " u'stock': [{u'color': u'white', u'qty': 25},\n",
       "  {u'color': u'Black', u'qty': 50}]}"
      ]
     },
     "execution_count": 7,
     "metadata": {},
     "output_type": "execute_result"
    }
   ],
   "source": [
    "collection.find_one()"
   ]
  },
  {
   "cell_type": "code",
   "execution_count": 8,
   "metadata": {
    "collapsed": false
   },
   "outputs": [
    {
     "data": {
      "text/plain": [
       "52"
      ]
     },
     "execution_count": 8,
     "metadata": {},
     "output_type": "execute_result"
    }
   ],
   "source": [
    "collection.count()"
   ]
  },
  {
   "cell_type": "code",
   "execution_count": 11,
   "metadata": {
    "collapsed": false
   },
   "outputs": [
    {
     "name": "stdout",
     "output_type": "stream",
     "text": [
      "hello\n",
      "{u'category': u'Laptop', u'item_name': u'Apple Mac Air', u'price': 980, u'details': {u'model': u'Mac Air', u'version': u'Air 2', u'manufacturer': u'Apple company'}, u'_id': ObjectId('5740e0b8ee1b431f6a1f5df9'), u'stock': [{u'color': u'white', u'qty': 25}, {u'color': u'Black', u'qty': 50}]}\n",
      "hello\n",
      "{u'category': u'Laptop', u'item_name': u'Lenovo Y40', u'price': 680, u'details': {u'model': u'Y40', u'version': u'Y40 gaming', u'manufacturer': u'Lenovo'}, u'_id': ObjectId('5740e0b8ee1b431f6a1f5dfa'), u'stock': [{u'color': u'white', u'qty': 23}, {u'color': u'Black', u'qty': 43}]}\n",
      "hello\n",
      "{u'category': u'Laptop', u'Operating_System': [{u'Windows': 10, u'qty': 20}, {u'Windows': 8.1, u'qty': 20}, {u'Windows': 7, u'qty': 10}], u'item_name': u'Toshiba C50', u'price': 680, u'details': {u'model': u'C series', u'version': u'C50', u'manufacturer': u'Toshiba'}, u'_id': ObjectId('5740e0b8ee1b431f6a1f5dfb'), u'stock': [{u'color': u'silver', u'qty': 30}, {u'color': u'White', u'qty': 20}]}\n",
      "hello\n",
      "{u'category': u'Laptop', u'Operating_System': [{u'Windows': 10, u'qty': 20}, {u'Windows': 8.1, u'qty': 20}, {u'Windows': 7, u'qty': 10}], u'item_name': u'Sony Vaio', u'price': 680, u'details': {u'model': u'Vaio', u'version': u'T-20', u'manufacturer': u'Sony'}, u'_id': ObjectId('5740e0b8ee1b431f6a1f5dfc'), u'stock': [{u'color': u'Black', u'qty': 30}, {u'color': u'White', u'qty': 20}]}\n",
      "hello\n",
      "{u'category': u'Laptop', u'Operating_System': [{u'Windows': 10, u'qty': 20}, {u'Windows': 8.1, u'qty': 15}, {u'Windows': 7, u'qty': 15}], u'item_name': u'Dell 5000', u'price': 680, u'details': {u'model': u'5000 Series', u'manufacturer': u'Dell'}, u'_id': ObjectId('5740e0b8ee1b431f6a1f5dfd'), u'stock': [{u'color': u'Black', u'qty': 30}, {u'color': u'Silver', u'qty': 20}]}\n",
      "hello\n",
      "{u'category': u'Laptop', u'Operating_System': [{u'Windows': 10, u'qty': 10}, {u'Windows': 8.1, u'qty': 15}, {u'Windows': 7, u'qty': 5}], u'item_name': u'Dell 7000', u'price': 680, u'details': {u'model': u'7000 Series', u'manufacturer': u'Dell'}, u'_id': ObjectId('5740e0b8ee1b431f6a1f5dfe'), u'stock': [{u'color': u'Black', u'qty': 20}, {u'color': u'Silver', u'qty': 10}]}\n",
      "hello\n",
      "{u'category': u'Laptop', u'item_name': u'Acer', u'price': 780, u'details': {u'model': u'Zen', u'version': u'Peace', u'manufacturer': u'Acer company'}, u'_id': ObjectId('5740e0b8ee1b431f6a1f5dff'), u'stock': [{u'color': u'Red', u'qty': 15}, {u'color': u'Gold', u'qty': 20}]}\n",
      "hello\n",
      "{u'category': u'Smart Phone', u'item_name': u'Iphone', u'price': 680, u'details': {u'model': u'i-Phone 6s', u'manufacturer': u'Apple company'}, u'_id': ObjectId('5740e0b8ee1b431f6a1f5e00'), u'stock': [{u'color': u'rose', u'qty': 20}, {u'color': u'Black', u'qty': 50}, {u'color': u'silver', u'qty': 30}]}\n",
      "hello\n",
      "{u'category': u'Smart Phone', u'item_name': u'Iphone', u'price': 580, u'details': {u'model': u'i-Phone 6', u'manufacturer': u'Apple company'}, u'_id': ObjectId('5740e0b8ee1b431f6a1f5e01'), u'stock': [{u'color': u'rose', u'qty': 10}, {u'color': u'Black', u'qty': 20}, {u'color': u'silver', u'qty': 30}]}\n",
      "hello\n",
      "{u'category': u'Smart Phone', u'item_name': u'Iphone', u'price': 450, u'details': {u'model': u'i-Phone 5s', u'RAM': u'32 gb', u'screen': u'5 inches', u'manufacturer': u'Apple company'}, u'_id': ObjectId('5740e0b8ee1b431f6a1f5e02'), u'stock': [{u'color': u'rose', u'qty': 10}, {u'color': u'Black', u'qty': 20}, {u'color': u'silver', u'qty': 30}]}\n",
      "hello\n",
      "{u'category': u'Smart Phone', u'item_name': u'Android Phone', u'price': 450, u'details': {u'model': u'Samsung S4', u'android_version': u'kikat 4.0', u'manufacturer': u'Samsung'}, u'_id': ObjectId('5740e0b8ee1b431f6a1f5e03'), u'stock': [{u'color': u'white', u'qty': 23}, {u'color': u'Black', u'qty': 43}, {u'color': u'gold', u'qty': 43}]}\n",
      "hello\n",
      "{u'category': u'Smart Phone', u'item_name': u'Android Phone', u'price': 490, u'details': {u'model': u'Samsung S5', u'android_version': u'kikat 4.2', u'manufacturer': u'Samsung'}, u'_id': ObjectId('5740e0b8ee1b431f6a1f5e04'), u'stock': [{u'color': u'white', u'qty': 22}, {u'color': u'Black', u'qty': 10}, {u'color': u'gold', u'qty': 23}]}\n",
      "hello\n",
      "{u'category': u'Smart Phone', u'item_name': u'Android Phone', u'price': 550, u'details': {u'model': u'Samsung S6', u'android_version': u'Lolipop', u'manufacturer': u'Samsung'}, u'_id': ObjectId('5740e0b8ee1b431f6a1f5e05'), u'stock': [{u'color': u'white', u'qty': 23}, {u'color': u'Black', u'qty': 23}, {u'color': u'gold', u'qty': 23}]}\n",
      "hello\n",
      "{u'category': u'Smart Phone', u'item_name': u'Android Phone', u'price': 590, u'details': {u'model': u'Samsung S6 edge', u'android_version': u'Lolipop', u'manufacturer': u'Samsung'}, u'_id': ObjectId('5740e0b8ee1b431f6a1f5e06'), u'stock': [{u'color': u'white', u'qty': 22}, {u'color': u'Black', u'qty': 22}, {u'color': u'gold', u'qty': 21}]}\n",
      "hello\n",
      "{u'category': u'Smart Phone', u'item_name': u'Android Phone', u'price': 800, u'details': {u'model': u'Samsung S6 edge plus', u'android_version': u'Lolipop', u'screen': u'7 inches', u'manufacturer': u'Samsung'}, u'_id': ObjectId('5740e0b8ee1b431f6a1f5e07'), u'stock': [{u'color': u'white', u'qty': 22}, {u'color': u'Black', u'qty': 22}, {u'color': u'gold', u'qty': 21}]}\n",
      "hello\n",
      "{u'category': u'Smart Phone', u'item_name': u'Android Phone', u'price': 590, u'details': {u'model': u'Nexus 6p', u'android_version': u'Marshmellow', u'screen': u'7 inches', u'manufacturer': u'Google'}, u'_id': ObjectId('5740e0b8ee1b431f6a1f5e08'), u'stock': [{u'color': u'white', u'qty': 22}, {u'color': u'Black', u'qty': 22}, {u'color': u'silver', u'qty': 21}]}\n",
      "hello\n",
      "{u'category': u'Smart Phone', u'item_name': u'Android Phone', u'price': 450, u'details': {u'model': u'Nexus 5p', u'android_version': u'Marshmellow', u'screen': u'7 inches', u'manufacturer': u'Google'}, u'_id': ObjectId('5740e0b8ee1b431f6a1f5e09'), u'stock': [{u'color': u'white', u'qty': 22}, {u'color': u'Black', u'qty': 22}, {u'color': u'silver', u'qty': 21}]}\n",
      "hello\n",
      "{u'category': u'Smart Phone', u'item_name': u'Android Phone', u'price': 250, u'details': {u'model': u'Moto g', u'android_version': u'lolipop', u'screen': u'5 inches', u'manufacturer': u'Motorolla'}, u'_id': ObjectId('5740e0b8ee1b431f6a1f5e0a'), u'stock': [{u'color': u'white', u'qty': 22}, {u'color': u'Black', u'qty': 22}]}\n",
      "hello\n",
      "{u'category': u'Smart Phone', u'item_name': u'Android Phone', u'price': 450, u'details': {u'model': u'Moto X', u'android_version': u'lolipop', u'screen': u'6 inches', u'manufacturer': u'Motorolla'}, u'_id': ObjectId('5740e0b8ee1b431f6a1f5e0b'), u'stock': [{u'color': u'white', u'qty': 22}, {u'color': u'Black', u'qty': 22}]}\n",
      "hello\n",
      "{u'category': u'Smart Phone', u'item_name': u'Android Phone', u'price': 240, u'details': {u'model': u'Ascend Mate 2', u'android_version': u'lolipop', u'screen': u'6 inches', u'manufacturer': u'Huawei'}, u'_id': ObjectId('5740e0b8ee1b431f6a1f5e0c'), u'stock': [{u'color': u'white', u'qty': 10}, {u'color': u'Black', u'qty': 20}]}\n",
      "hello\n",
      "{u'category': u'Smart Phone', u'item_name': u'Android Phone', u'price': 550, u'details': {u'model': u'Ascend Mate 7', u'android_version': u'lolipop', u'screen': u'7 inches', u'manufacturer': u'Huawei'}, u'_id': ObjectId('5740e0b8ee1b431f6a1f5e0d'), u'stock': [{u'color': u'white', u'qty': 10}, {u'color': u'Black', u'qty': 20}]}\n",
      "hello\n",
      "{u'category': u'Smart Phone', u'item_name': u'Android Phone', u'price': 400, u'details': {u'model': u'Maimang', u'android_version': u'lolipop', u'screen': u'5 inches', u'manufacturer': u'Huawei'}, u'_id': ObjectId('5740e0b8ee1b431f6a1f5e0e'), u'stock': [{u'color': u'white', u'qty': 10}, {u'color': u'Black', u'qty': 10}]}\n",
      "hello\n",
      "{u'category': u'Smart Phone', u'item_name': u'Android Phone', u'price': 400, u'details': {u'model': u'Maimang', u'android_version': u'lolipop', u'screen': u'5 inches', u'manufacturer': u'Huawei'}, u'_id': ObjectId('5740e0b8ee1b431f6a1f5e0f'), u'stock': [{u'color': u'white', u'qty': 10}, {u'color': u'Black', u'qty': 10}]}\n",
      "hello\n",
      "{u'category': u'Smart Phone', u'item_name': u'Android Phone', u'price': 350, u'details': {u'model': u'LGV10', u'android_version': u'lolipop', u'screen': u'5 inches', u'manufacturer': u'LG'}, u'_id': ObjectId('5740e0b8ee1b431f6a1f5e10'), u'stock': [{u'color': u'white', u'qty': 15}, {u'color': u'Black', u'qty': 10}]}\n",
      "hello\n",
      "{u'category': u'Smart Phone', u'item_name': u'Android Phone', u'price': 399, u'details': {u'model': u'LG G4', u'android_version': u'lolipop', u'screen': u'6 inches', u'manufacturer': u'LG'}, u'_id': ObjectId('5740e0b8ee1b431f6a1f5e11'), u'stock': [{u'color': u'Red', u'qty': 20}, {u'color': u'Black', u'qty': 10}, {u'color': u'white', u'qty': 12}]}\n",
      "hello\n",
      "{u'category': u'Smart Phone', u'item_name': u'Android Phone', u'price': 500, u'details': {u'model': u'LG G FLEX 2', u'android_version': u'lolipop', u'screen': u'6 inches', u'manufacturer': u'LG'}, u'_id': ObjectId('5740e0b8ee1b431f6a1f5e12'), u'stock': [{u'color': u'Red', u'qty': 20}, {u'color': u'Black', u'qty': 10}, {u'color': u'white', u'qty': 12}]}\n",
      "hello\n",
      "{u'category': u'Smart Phone', u'item_name': u'Windows Phones', u'price': 600, u'details': {u'model': u'Lumia 950', u'Camera': u'20 mp', u'screen': u'7 inches', u'manufacturer': u'Nokia'}, u'_id': ObjectId('5740e0b8ee1b431f6a1f5e13'), u'stock': [{u'color': u'Red', u'qty': 20}, {u'color': u'Black', u'qty': 10}, {u'color': u'white', u'qty': 12}]}\n",
      "hello\n",
      "{u'category': u'Smart Phone', u'item_name': u'Windows Phones', u'price': 600, u'details': {u'model': u'Lumia 950', u'Camera': u'20 mp', u'screen': u'7 inches', u'manufacturer': u'Nokia'}, u'_id': ObjectId('5740e0b8ee1b431f6a1f5e14'), u'stock': [{u'color': u'Red', u'qty': 20}, {u'color': u'Black', u'qty': 10}, {u'color': u'white', u'qty': 12}]}\n",
      "hello\n",
      "{u'category': u'Smart Phone', u'item_name': u'Windows Phones', u'price': 300, u'details': {u'model': u'Lumia 550', u'Camera': u'5 mp', u'screen': u'7 inches', u'manufacturer': u'Nokia'}, u'_id': ObjectId('5740e0b8ee1b431f6a1f5e15'), u'stock': [{u'color': u'Blue', u'qty': 20}, {u'color': u'Black', u'qty': 10}, {u'color': u'white', u'qty': 12}]}\n",
      "hello\n",
      "{u'category': u'Smart Phone', u'item_name': u'Windows Phones', u'price': 350, u'details': {u'model': u'Lumia 735', u'Camera': u'7 mp', u'screen': u'5 inches', u'manufacturer': u'Nokia'}, u'_id': ObjectId('5740e0b8ee1b431f6a1f5e16'), u'stock': [{u'color': u'Black', u'qty': 10}]}\n",
      "hello\n",
      "{u'category': u'Smart Phone', u'item_name': u'Windows Phones', u'price': 300, u'details': {u'model': u'Lumia 640', u'Camera': u'8 mp', u'screen': u'5 inches', u'manufacturer': u'Nokia'}, u'_id': ObjectId('5740e0b8ee1b431f6a1f5e17'), u'stock': [{u'color': u'Blue', u'qty': 20}, {u'color': u'Black', u'qty': 10}, {u'color': u'white', u'qty': 12}]}\n",
      "hello\n",
      "{u'category': u'Smart Phone', u'item_name': u'Windows Phones', u'price': 300, u'details': {u'model': u'Lumia 1520', u'Camera': u'20 mp', u'screen': u'6 inches', u'manufacturer': u'Nokia'}, u'_id': ObjectId('5740e0b8ee1b431f6a1f5e18'), u'stock': [{u'color': u'Blue', u'qty': 20}, {u'color': u'Black', u'qty': 10}, {u'color': u'Yellow', u'qty': 12}, {u'color': u'white', u'qty': 12}]}\n",
      "hello\n",
      "{u'category': u'Tablets', u'item_name': u'Lenovo Yoga Tab 3 Pro', u'price': 169, u'details': {u'model': u'Yoga Series', u'memory': u'16 gb', u'Camera': u'13 mp', u'weightInGrams': 665, u'manufacturer': u'Lenovo'}, u'_id': ObjectId('5740e0b8ee1b431f6a1f5e19'), u'stock': [{u'color': u'white', u'qty': 25}, {u'color': u'Black', u'qty': 50}]}\n",
      "hello\n",
      "{u'category': u'Tablets', u'item_name': u'Lenovo Yoga Tab 3 Pro', u'price': 169, u'details': {u'model': u'Yoga Series', u'memory': u'32 gb', u'Camera': u'13 mp', u'weightInGrams': 665, u'manufacturer': u'Lenovo'}, u'_id': ObjectId('5740e0b8ee1b431f6a1f5e1a'), u'stock': [{u'color': u'white', u'qty': 25}, {u'color': u'Black', u'qty': 50}]}\n",
      "hello\n",
      "{u'category': u'Tablets', u'item_name': u'Microsoft Surface Pro', u'price': 899, u'details': {u'model': u'Surface', u'memory': u'128 gb', u'Camera': u'8 mp', u'weightInGrams': 776, u'manufacturer': u'Microsoft'}, u'_id': ObjectId('5740e0b8ee1b431f6a1f5e1b'), u'stock': [{u'color': u'white', u'qty': 25}, {u'color': u'Black', u'qty': 20}, {u'color': u'silver', u'qty': 10}]}\n",
      "hello\n",
      "{u'category': u'Tablets', u'item_name': u'Sony Xperia Z3', u'price': 440, u'details': {u'model': u'Xperia', u'memory': u'16 gb', u'Camera': u'8.1 mp', u'weightInGrams': 270, u'manufacturer': u'Sony'}, u'_id': ObjectId('5740e0b8ee1b431f6a1f5e1c'), u'stock': [{u'color': u'white', u'qty': 25}, {u'color': u'Black', u'qty': 20}, {u'color': u'silver', u'qty': 10}]}\n",
      "hello\n",
      "{u'category': u'Tablets', u'item_name': u'Sony Xperia Z4', u'price': 440, u'details': {u'model': u'Xperia', u'memory': u'32 gb', u'Camera': u'8.1 mp', u'weightInGrams': 592, u'manufacturer': u'Sony'}, u'_id': ObjectId('5740e0b8ee1b431f6a1f5e1d'), u'stock': [{u'color': u'white', u'qty': 25}, {u'color': u'Black', u'qty': 20}, {u'color': u'silver', u'qty': 10}]}\n",
      "hello\n",
      "{u'category': u'Tablets', u'item_name': u'Sony Xperia Z3', u'price': 540, u'details': {u'model': u'Xperia', u'memory': u'32 gb', u'Camera': u'8.1 mp', u'weightInGrams': 270, u'manufacturer': u'Sony'}, u'_id': ObjectId('5740e0b8ee1b431f6a1f5e1e'), u'stock': [{u'color': u'white', u'qty': 25}, {u'color': u'Black', u'qty': 20}, {u'color': u'silver', u'qty': 10}]}\n",
      "hello\n",
      "{u'category': u'Tablets', u'item_name': u'Nexus 9', u'price': 499, u'details': {u'model': u'Nexus', u'memory': u'32 gb', u'Camera': u'8 mp', u'weightInGrams': 425, u'manufacturer': u'Google'}, u'_id': ObjectId('5740e0b8ee1b431f6a1f5e1f'), u'stock': [{u'color': u'white', u'qty': 15}, {u'color': u'Black', u'qty': 20}]}\n",
      "hello\n",
      "{u'category': u'Tablets', u'item_name': u'Nexus 9', u'price': 399, u'details': {u'model': u'Nexus', u'memory': u'16 gb', u'Camera': u'8 mp', u'weightInGrams': 425, u'manufacturer': u'Google'}, u'_id': ObjectId('5740e0b8ee1b431f6a1f5e20'), u'stock': [{u'color': u'white', u'qty': 15}, {u'color': u'Black', u'qty': 20}]}\n",
      "hello\n",
      "{u'category': u'Tablets', u'item_name': u'Ipad Pro', u'price': 599, u'details': {u'model': u'Pro', u'memory': u'32 gb', u'Camera': u'8 mp', u'weightInGrams': 713, u'manufacturer': u'Apple'}, u'_id': ObjectId('5740e0b8ee1b431f6a1f5e21'), u'stock': [{u'color': u'white', u'qty': 15}, {u'color': u'Silver', u'qty': 20}, {u'color': u'Gold', u'qty': 20}]}\n",
      "hello\n",
      "{u'category': u'Tablets', u'item_name': u'Ipad Pro', u'price': 799, u'details': {u'model': u'Pro', u'memory': u'128 gb', u'Camera': u'8 mp', u'weightInGrams': 713, u'manufacturer': u'Apple'}, u'_id': ObjectId('5740e0b8ee1b431f6a1f5e22'), u'stock': [{u'color': u'white', u'qty': 15}, {u'color': u'Gold', u'qty': 20}]}\n",
      "hello\n",
      "{u'category': u'Tablets', u'item_name': u'Ipad Mini 4', u'price': 399, u'details': {u'model': u'Mini', u'memory': u'16 gb', u'Camera': u'8 mp', u'weightInGrams': 299, u'manufacturer': u'Apple'}, u'_id': ObjectId('5740e0b8ee1b431f6a1f5e23'), u'stock': [{u'color': u'white', u'qty': 10}, {u'color': u'Gold', u'qty': 5}]}\n",
      "hello\n",
      "{u'category': u'Tablets', u'item_name': u'Ipad Mini 4', u'price': 499, u'details': {u'model': u'Mini', u'memory': u'64 gb', u'Camera': u'8 mp', u'weightInGrams': 299, u'manufacturer': u'Apple'}, u'_id': ObjectId('5740e0b8ee1b431f6a1f5e24'), u'stock': [{u'color': u'white', u'qty': 10}, {u'color': u'Gold', u'qty': 5}]}\n",
      "hello\n",
      "{u'category': u'Tablets', u'item_name': u'Ipad Mini 4', u'price': 599, u'details': {u'model': u'Mini', u'memory': u'128 gb', u'Camera': u'8 mp', u'weightInGrams': 299, u'manufacturer': u'Apple'}, u'_id': ObjectId('5740e0b8ee1b431f6a1f5e25'), u'stock': [{u'color': u'white', u'qty': 10}, {u'color': u'Silver', u'qty': 10}, {u'color': u'Gold', u'qty': 5}]}\n",
      "hello\n",
      "{u'category': u'Tablets', u'item_name': u'Samsung Galaxy Tab s2', u'price': 350, u'details': {u'model': u'S series', u'memory': u'32 gb', u'Camera': u'8 mp', u'weightInGrams': 389, u'manufacturer': u'Samsung'}, u'_id': ObjectId('5740e0b8ee1b431f6a1f5e26'), u'stock': [{u'color': u'white', u'qty': 10}, {u'color': u'Silver', u'qty': 10}, {u'color': u'Gold', u'qty': 5}]}\n",
      "hello\n",
      "{u'category': u'Tablets', u'item_name': u'Samsung Galaxy Tab s2', u'price': 399, u'details': {u'model': u'S series', u'memory': u'64 gb', u'Camera': u'8 mp', u'weightInGrams': 389, u'manufacturer': u'samsung'}, u'_id': ObjectId('5740e0b8ee1b431f6a1f5e27'), u'stock': [{u'color': u'white', u'qty': 10}, {u'color': u'Silver', u'qty': 10}, {u'color': u'Gold', u'qty': 5}]}\n",
      "hello\n",
      "{u'category': u'Tablets', u'item_name': u'Google Pixel C', u'price': 599, u'details': {u'model': u'Pixel', u'memory': u'32 gb', u'Camera': u'8 mp', u'weightInGrams': 517, u'manufacturer': u'Google'}, u'_id': ObjectId('5740e0b8ee1b431f6a1f5e28'), u'stock': [{u'color': u'white', u'qty': 3}, {u'color': u'Black', u'qty': 4}]}\n",
      "hello\n",
      "{u'category': u'Tablets', u'item_name': u'Google Pixel C', u'price': 699, u'details': {u'model': u'Pixel', u'memory': u'64 gb', u'Camera': u'8 mp', u'weightInGrams': 517, u'manufacturer': u'Google'}, u'_id': ObjectId('5740e0b8ee1b431f6a1f5e29'), u'stock': [{u'color': u'white', u'qty': 6}, {u'color': u'Black', u'qty': 7}]}\n",
      "hello\n",
      "{u'category': u'Tablets', u'item_name': u'Ipad Air 2', u'price': 399, u'details': {u'model': u'Air', u'memory': u'16 gb', u'Camera': u'8 mp', u'weightInGrams': 517, u'manufacturer': u'Apple'}, u'_id': ObjectId('5740e0b8ee1b431f6a1f5e2a'), u'stock': [{u'color': u'white', u'qty': 9}, {u'color': u'silver', u'qty': 18}]}\n",
      "hello\n",
      "{u'category': u'Tablets', u'item_name': u'Ipad Air 2', u'price': 599, u'details': {u'model': u'Air', u'memory': u'64 gb', u'Camera': u'8 mp', u'weightInGrams': 517, u'manufacturer': u'Apple'}, u'_id': ObjectId('5740e0b8ee1b431f6a1f5e2b'), u'stock': [{u'color': u'white', u'qty': 10}, {u'color': u'silver', u'qty': 20}]}\n",
      "hello\n",
      "{u'category': u'Tablets', u'item_name': u'Ipad Air 2', u'price': 699, u'details': {u'model': u'Air', u'memory': u'128 gb', u'Camera': u'8 mp', u'weightInGrams': 517, u'manufacturer': u'Apple'}, u'_id': ObjectId('5740e0b8ee1b431f6a1f5e2c'), u'stock': [{u'color': u'white', u'qty': 12}, {u'color': u'silver', u'qty': 15}]}\n"
     ]
    }
   ],
   "source": [
    "for item in collection.find():\n",
    "    print item"
   ]
  },
  {
   "cell_type": "code",
   "execution_count": 12,
   "metadata": {
    "collapsed": false
   },
   "outputs": [
    {
     "name": "stdout",
     "output_type": "stream",
     "text": [
      "{u'category': u'Tablets', u'item_name': u'Lenovo Yoga Tab 3 Pro', u'price': 169, u'details': {u'model': u'Yoga Series', u'memory': u'16 gb', u'Camera': u'13 mp', u'weightInGrams': 665, u'manufacturer': u'Lenovo'}, u'_id': ObjectId('5740e0b8ee1b431f6a1f5e19'), u'stock': [{u'color': u'white', u'qty': 25}, {u'color': u'Black', u'qty': 50}]}\n",
      "{u'category': u'Tablets', u'item_name': u'Lenovo Yoga Tab 3 Pro', u'price': 169, u'details': {u'model': u'Yoga Series', u'memory': u'32 gb', u'Camera': u'13 mp', u'weightInGrams': 665, u'manufacturer': u'Lenovo'}, u'_id': ObjectId('5740e0b8ee1b431f6a1f5e1a'), u'stock': [{u'color': u'white', u'qty': 25}, {u'color': u'Black', u'qty': 50}]}\n",
      "{u'category': u'Tablets', u'item_name': u'Microsoft Surface Pro', u'price': 899, u'details': {u'model': u'Surface', u'memory': u'128 gb', u'Camera': u'8 mp', u'weightInGrams': 776, u'manufacturer': u'Microsoft'}, u'_id': ObjectId('5740e0b8ee1b431f6a1f5e1b'), u'stock': [{u'color': u'white', u'qty': 25}, {u'color': u'Black', u'qty': 20}, {u'color': u'silver', u'qty': 10}]}\n",
      "{u'category': u'Tablets', u'item_name': u'Sony Xperia Z3', u'price': 440, u'details': {u'model': u'Xperia', u'memory': u'16 gb', u'Camera': u'8.1 mp', u'weightInGrams': 270, u'manufacturer': u'Sony'}, u'_id': ObjectId('5740e0b8ee1b431f6a1f5e1c'), u'stock': [{u'color': u'white', u'qty': 25}, {u'color': u'Black', u'qty': 20}, {u'color': u'silver', u'qty': 10}]}\n",
      "{u'category': u'Tablets', u'item_name': u'Sony Xperia Z4', u'price': 440, u'details': {u'model': u'Xperia', u'memory': u'32 gb', u'Camera': u'8.1 mp', u'weightInGrams': 592, u'manufacturer': u'Sony'}, u'_id': ObjectId('5740e0b8ee1b431f6a1f5e1d'), u'stock': [{u'color': u'white', u'qty': 25}, {u'color': u'Black', u'qty': 20}, {u'color': u'silver', u'qty': 10}]}\n",
      "{u'category': u'Tablets', u'item_name': u'Sony Xperia Z3', u'price': 540, u'details': {u'model': u'Xperia', u'memory': u'32 gb', u'Camera': u'8.1 mp', u'weightInGrams': 270, u'manufacturer': u'Sony'}, u'_id': ObjectId('5740e0b8ee1b431f6a1f5e1e'), u'stock': [{u'color': u'white', u'qty': 25}, {u'color': u'Black', u'qty': 20}, {u'color': u'silver', u'qty': 10}]}\n",
      "{u'category': u'Tablets', u'item_name': u'Nexus 9', u'price': 499, u'details': {u'model': u'Nexus', u'memory': u'32 gb', u'Camera': u'8 mp', u'weightInGrams': 425, u'manufacturer': u'Google'}, u'_id': ObjectId('5740e0b8ee1b431f6a1f5e1f'), u'stock': [{u'color': u'white', u'qty': 15}, {u'color': u'Black', u'qty': 20}]}\n",
      "{u'category': u'Tablets', u'item_name': u'Nexus 9', u'price': 399, u'details': {u'model': u'Nexus', u'memory': u'16 gb', u'Camera': u'8 mp', u'weightInGrams': 425, u'manufacturer': u'Google'}, u'_id': ObjectId('5740e0b8ee1b431f6a1f5e20'), u'stock': [{u'color': u'white', u'qty': 15}, {u'color': u'Black', u'qty': 20}]}\n",
      "{u'category': u'Tablets', u'item_name': u'Ipad Pro', u'price': 599, u'details': {u'model': u'Pro', u'memory': u'32 gb', u'Camera': u'8 mp', u'weightInGrams': 713, u'manufacturer': u'Apple'}, u'_id': ObjectId('5740e0b8ee1b431f6a1f5e21'), u'stock': [{u'color': u'white', u'qty': 15}, {u'color': u'Silver', u'qty': 20}, {u'color': u'Gold', u'qty': 20}]}\n",
      "{u'category': u'Tablets', u'item_name': u'Ipad Pro', u'price': 799, u'details': {u'model': u'Pro', u'memory': u'128 gb', u'Camera': u'8 mp', u'weightInGrams': 713, u'manufacturer': u'Apple'}, u'_id': ObjectId('5740e0b8ee1b431f6a1f5e22'), u'stock': [{u'color': u'white', u'qty': 15}, {u'color': u'Gold', u'qty': 20}]}\n",
      "{u'category': u'Tablets', u'item_name': u'Ipad Mini 4', u'price': 399, u'details': {u'model': u'Mini', u'memory': u'16 gb', u'Camera': u'8 mp', u'weightInGrams': 299, u'manufacturer': u'Apple'}, u'_id': ObjectId('5740e0b8ee1b431f6a1f5e23'), u'stock': [{u'color': u'white', u'qty': 10}, {u'color': u'Gold', u'qty': 5}]}\n",
      "{u'category': u'Tablets', u'item_name': u'Ipad Mini 4', u'price': 499, u'details': {u'model': u'Mini', u'memory': u'64 gb', u'Camera': u'8 mp', u'weightInGrams': 299, u'manufacturer': u'Apple'}, u'_id': ObjectId('5740e0b8ee1b431f6a1f5e24'), u'stock': [{u'color': u'white', u'qty': 10}, {u'color': u'Gold', u'qty': 5}]}\n",
      "{u'category': u'Tablets', u'item_name': u'Ipad Mini 4', u'price': 599, u'details': {u'model': u'Mini', u'memory': u'128 gb', u'Camera': u'8 mp', u'weightInGrams': 299, u'manufacturer': u'Apple'}, u'_id': ObjectId('5740e0b8ee1b431f6a1f5e25'), u'stock': [{u'color': u'white', u'qty': 10}, {u'color': u'Silver', u'qty': 10}, {u'color': u'Gold', u'qty': 5}]}\n",
      "{u'category': u'Tablets', u'item_name': u'Samsung Galaxy Tab s2', u'price': 350, u'details': {u'model': u'S series', u'memory': u'32 gb', u'Camera': u'8 mp', u'weightInGrams': 389, u'manufacturer': u'Samsung'}, u'_id': ObjectId('5740e0b8ee1b431f6a1f5e26'), u'stock': [{u'color': u'white', u'qty': 10}, {u'color': u'Silver', u'qty': 10}, {u'color': u'Gold', u'qty': 5}]}\n",
      "{u'category': u'Tablets', u'item_name': u'Samsung Galaxy Tab s2', u'price': 399, u'details': {u'model': u'S series', u'memory': u'64 gb', u'Camera': u'8 mp', u'weightInGrams': 389, u'manufacturer': u'samsung'}, u'_id': ObjectId('5740e0b8ee1b431f6a1f5e27'), u'stock': [{u'color': u'white', u'qty': 10}, {u'color': u'Silver', u'qty': 10}, {u'color': u'Gold', u'qty': 5}]}\n",
      "{u'category': u'Tablets', u'item_name': u'Google Pixel C', u'price': 599, u'details': {u'model': u'Pixel', u'memory': u'32 gb', u'Camera': u'8 mp', u'weightInGrams': 517, u'manufacturer': u'Google'}, u'_id': ObjectId('5740e0b8ee1b431f6a1f5e28'), u'stock': [{u'color': u'white', u'qty': 3}, {u'color': u'Black', u'qty': 4}]}\n",
      "{u'category': u'Tablets', u'item_name': u'Google Pixel C', u'price': 699, u'details': {u'model': u'Pixel', u'memory': u'64 gb', u'Camera': u'8 mp', u'weightInGrams': 517, u'manufacturer': u'Google'}, u'_id': ObjectId('5740e0b8ee1b431f6a1f5e29'), u'stock': [{u'color': u'white', u'qty': 6}, {u'color': u'Black', u'qty': 7}]}\n",
      "{u'category': u'Tablets', u'item_name': u'Ipad Air 2', u'price': 399, u'details': {u'model': u'Air', u'memory': u'16 gb', u'Camera': u'8 mp', u'weightInGrams': 517, u'manufacturer': u'Apple'}, u'_id': ObjectId('5740e0b8ee1b431f6a1f5e2a'), u'stock': [{u'color': u'white', u'qty': 9}, {u'color': u'silver', u'qty': 18}]}\n",
      "{u'category': u'Tablets', u'item_name': u'Ipad Air 2', u'price': 599, u'details': {u'model': u'Air', u'memory': u'64 gb', u'Camera': u'8 mp', u'weightInGrams': 517, u'manufacturer': u'Apple'}, u'_id': ObjectId('5740e0b8ee1b431f6a1f5e2b'), u'stock': [{u'color': u'white', u'qty': 10}, {u'color': u'silver', u'qty': 20}]}\n",
      "{u'category': u'Tablets', u'item_name': u'Ipad Air 2', u'price': 699, u'details': {u'model': u'Air', u'memory': u'128 gb', u'Camera': u'8 mp', u'weightInGrams': 517, u'manufacturer': u'Apple'}, u'_id': ObjectId('5740e0b8ee1b431f6a1f5e2c'), u'stock': [{u'color': u'white', u'qty': 12}, {u'color': u'silver', u'qty': 15}]}\n"
     ]
    }
   ],
   "source": [
    "for item in collection.find({u'category': u'Tablets'}):\n",
    "    print item"
   ]
  },
  {
   "cell_type": "code",
   "execution_count": null,
   "metadata": {
    "collapsed": true
   },
   "outputs": [],
   "source": []
  }
 ],
 "metadata": {
  "kernelspec": {
   "display_name": "Python 2",
   "language": "python",
   "name": "python2"
  },
  "language_info": {
   "codemirror_mode": {
    "name": "ipython",
    "version": 2
   },
   "file_extension": ".py",
   "mimetype": "text/x-python",
   "name": "python",
   "nbconvert_exporter": "python",
   "pygments_lexer": "ipython2",
   "version": "2.7.10"
  }
 },
 "nbformat": 4,
 "nbformat_minor": 0
}
